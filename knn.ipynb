{
 "cells": [
  {
   "cell_type": "markdown",
   "source": [
    "# Метод ближайших соседей"
   ],
   "metadata": {
    "collapsed": false
   },
   "id": "7db24b8abdd487ee"
  },
  {
   "cell_type": "markdown",
   "source": [
    "knn.py - файл содержит реализацию класса knn "
   ],
   "metadata": {
    "collapsed": false
   },
   "id": "925baad57fecbfa9"
  },
  {
   "cell_type": "markdown",
   "source": [
    "Импорт библиотек:"
   ],
   "metadata": {
    "collapsed": false
   },
   "id": "bb2d6f06a67c537c"
  },
  {
   "cell_type": "code",
   "execution_count": null,
   "outputs": [],
   "source": [
    "import numpy as np\n",
    "import matplotlib.pyplot as plt\n",
    "import seaborn as sns\n",
    "from collections import Counter\n",
    "\n",
    "from sklearn.neighbors import NearestNeighbors\n",
    "\n",
    "from data_utils import load_and_preprocess_data\n",
    "from evaluation import grid_search_knn, evaluate_knn\n",
    "from knn import KNN, uniform_kernel, gaussian_kernel, triangular_kernel, polynomial_kernel\n",
    "from plot_utils import (\n",
    "    plot_accuracy,\n",
    "    plot_class_distribution,\n",
    "    plot_accuracy_over_parameters,\n",
    ")\n",
    "from lowess_custom import calculate_lowess_weights\n"
   ],
   "metadata": {
    "collapsed": false
   },
   "id": "1c1a463555bf20e3"
  },
  {
   "cell_type": "markdown",
   "source": [
    "Загрузка данных, подготовка и настройка\n",
    "## Были выбраны\n",
    "### Ядра: \n",
    "- Однородное ядро\n",
    "- Гауссово ядро\n",
    "- Полиномиальное\n",
    "- Треугольное\n",
    "\n",
    "### Метрики:\n",
    "- Евклидово расстояние (`euclidean`)\n",
    "- Манхэттенское расстояние (`manhattan`)\n",
    "- Расстояние Чебышева (`chebyshev`)\n",
    "- Косинусное расстояние (`cosine`)\n",
    "- Расстояние Минковского (`minkowski` с параметром `p`)"
   ],
   "metadata": {
    "collapsed": false
   },
   "id": "5bdf90300c79c9fd"
  },
  {
   "cell_type": "code",
   "execution_count": null,
   "outputs": [],
   "source": [
    "def load_data(csv_path, target_column):\n",
    "    return load_and_preprocess_data(csv_path, target_column)\n",
    "\n",
    "\n",
    "def set_parameters():\n",
    "    neighbor_range = range(1, 21, 2)\n",
    "    radius_range = [0.5, 1.0, 1.5, 2.0]\n",
    "    metrics = ['euclidean', 'manhattan', 'chebyshev', 'cosine', 'minkowski']\n",
    "    kernels = {\n",
    "        'uniform': uniform_kernel,\n",
    "        'gaussian': gaussian_kernel,\n",
    "        'triangular': triangular_kernel,\n",
    "        'polynomial': lambda d: polynomial_kernel(d, a=2, b=1)\n",
    "    }\n",
    "    p_range = [2, 3, 4]\n",
    "    return neighbor_range, radius_range, metrics, kernels, p_range"
   ],
   "metadata": {
    "collapsed": false
   },
   "id": "edc46c507b828f5d"
  },
  {
   "cell_type": "markdown",
   "source": [
    "Поиск лучших параметров"
   ],
   "metadata": {
    "collapsed": false
   },
   "id": "1114e74f1baaf85"
  },
  {
   "cell_type": "code",
   "execution_count": null,
   "outputs": [],
   "source": [
    "def find_best_parameters(X_train, y_train, X_val, y_val, neighbor_range, radius_range, metrics, kernels, p_range):\n",
    "    best_params, best_accuracy, results = grid_search_knn(\n",
    "        X_train, y_train, X_val, y_val,\n",
    "        neighbor_range, radius_range, metrics, kernels, p_range\n",
    "    )\n",
    "    return best_params, best_accuracy, results"
   ],
   "metadata": {
    "collapsed": false
   },
   "id": "72b742c85db8e2b7"
  },
  {
   "cell_type": "markdown",
   "source": [
    "Оценка на тестовом множестве"
   ],
   "metadata": {
    "collapsed": false
   },
   "id": "dd6bcb9df89fc1c9"
  },
  {
   "cell_type": "code",
   "execution_count": null,
   "outputs": [],
   "source": [
    "def evaluate_test_set(X_train, y_train, X_test, y_test, best_params):\n",
    "    metric = best_params['metric']\n",
    "    if 'minkowski' in metric:\n",
    "        p = int(metric.split('_p')[-1])\n",
    "        base_metric = 'minkowski'\n",
    "    else:\n",
    "        p = None\n",
    "        base_metric = metric\n",
    "\n",
    "    test_accuracy = evaluate_knn(\n",
    "        X_train=X_train,\n",
    "        y_train=y_train,\n",
    "        X_test=X_test,\n",
    "        y_test=y_test,\n",
    "        n_neighbors=best_params.get('n_neighbors'),\n",
    "        radius=best_params.get('radius'),\n",
    "        metric=base_metric,\n",
    "        kernel=best_params['kernel'],\n",
    "        p=p\n",
    "    )\n",
    "    return test_accuracy"
   ],
   "metadata": {
    "collapsed": false
   },
   "id": "b5b62c6912094863"
  },
  {
   "cell_type": "markdown",
   "source": [
    "main.py \n",
    "Выполняет загрузку данных, настройку параметров и подбор гиперпараметров для KNN. Проводит оценку на тестовой выборке и строит графики зависимости точности."
   ],
   "metadata": {
    "collapsed": false
   },
   "id": "c793cad172f8167a"
  },
  {
   "cell_type": "code",
   "execution_count": null,
   "outputs": [],
   "source": [
    "def main():\n",
    "    csv_path = \"allrecipes_binarized_every.csv\"\n",
    "    target_column = 'Category'\n",
    "\n",
    "    X_train, X_val, X_test, y_train, y_val, y_test, label_encoder, scaler = load_data(csv_path, target_column)\n",
    "\n",
    "    print(f\"Размер тренировочной выборки: {X_train.shape}\")\n",
    "    print(f\"Размер валидационной выборки: {X_val.shape}\")\n",
    "    print(f\"Размер тестовой выборки: {X_test.shape}\")\n",
    "\n",
    "    neighbor_range, radius_range, metrics, kernels, p_range = set_parameters()\n",
    "\n",
    "    best_params, best_accuracy, results = find_best_parameters(\n",
    "        X_train, y_train, X_val, y_val,\n",
    "        neighbor_range, radius_range, metrics, kernels, p_range\n",
    "    )\n",
    "\n",
    "    print(\"\\nЛучшие параметры:\")\n",
    "    print(best_params)\n",
    "    print(f\"Лучшая точность на валидационной выборке: {best_accuracy:.4f}\")\n",
    "\n",
    "    test_accuracy = evaluate_test_set(X_train, y_train, X_test, y_test, best_params)\n",
    "    print(f\"Точность на тестовом множестве с лучшими гиперпараметрами: {test_accuracy:.4f}\")\n",
    "\n",
    "    plot_accuracy_results(X_train, y_train, X_test, y_test, best_params, results)\n",
    "    plot_class_distribution_func(y_train)\n",
    "    plot_accuracy_over_parameters_func(results)\n",
    "    \n",
    "    calculate_lowess_weights(X_train, y_train, X_test, y_test, best_params)\n",
    "\n",
    "main()"
   ],
   "metadata": {
    "collapsed": false
   },
   "id": "66aaf914675d093d"
  },
  {
   "cell_type": "markdown",
   "source": [
    "knn.py - файл реализующий KNN и ядра"
   ],
   "metadata": {
    "collapsed": false
   },
   "id": "3d5222c88e68e458"
  },
  {
   "cell_type": "code",
   "execution_count": null,
   "outputs": [],
   "source": [
    "def uniform_kernel(distances):\n",
    "    return np.ones_like(distances)\n",
    "\n",
    "def gaussian_kernel(distances, bandwidth=1.0):\n",
    "    return np.exp(-0.5 * (distances / bandwidth) ** 2)\n",
    "\n",
    "def polynomial_kernel(distances, a=2, b=1):\n",
    "    return np.power((1 - np.power(np.abs(distances), a)), b)\n",
    "\n",
    "def triangular_kernel(distances):\n",
    "    return np.maximum(1 - distances, 0)\n",
    "\n",
    "KERNELS = {\n",
    "    'uniform': uniform_kernel,\n",
    "    'gaussian': gaussian_kernel,\n",
    "    'triangular': triangular_kernel,\n",
    "    'polynomial': polynomial_kernel\n",
    "}"
   ],
   "metadata": {
    "collapsed": false
   },
   "id": "54b27f64b7569fbf"
  },
  {
   "cell_type": "markdown",
   "source": [
    "Класс knn и реализация его методов"
   ],
   "metadata": {
    "collapsed": false
   },
   "id": "a1a0afe277adb598"
  },
  {
   "cell_type": "code",
   "execution_count": null,
   "outputs": [],
   "source": [
    "class KNN:\n",
    "    def __init__(self, n_neighbors=5, radius=None, metric='euclidean', kernel='uniform', weights=None, p=2):\n",
    "        self.n_neighbors = n_neighbors\n",
    "        self.radius = radius\n",
    "        self.metric = metric\n",
    "        self.kernel = KERNELS.get(kernel, uniform_kernel)\n",
    "        self.weights = weights if weights is not None else np.ones(1)\n",
    "        self.p = p\n",
    "        if radius is None:\n",
    "            if self.metric == 'minkowski':\n",
    "                self.model = NearestNeighbors(n_neighbors=n_neighbors, metric=self.metric, p=self.p)\n",
    "            else:\n",
    "                self.model = NearestNeighbors(n_neighbors=n_neighbors, metric=self.metric)\n",
    "        else:\n",
    "            if self.metric == 'minkowski':\n",
    "                self.model = NearestNeighbors(radius=radius, metric=self.metric, p=self.p)\n",
    "            else:\n",
    "                self.model = NearestNeighbors(radius=radius, metric=self.metric)\n",
    "\n",
    "    def fit(self, X, y):\n",
    "        self.X_train = X\n",
    "        self.y_train = y\n",
    "        self.model.fit(X)\n",
    "\n",
    "    def predict(self, X):\n",
    "        predictions = []\n",
    "        if self.radius is None:\n",
    "            distances, indices = self.model.kneighbors(X)\n",
    "            for i, neighbors in enumerate(indices):\n",
    "                neighbor_labels = self.y_train[neighbors]\n",
    "                neighbor_distances = distances[i]\n",
    "                weights = self.kernel(neighbor_distances)\n",
    "                if self.weights.size > 1:\n",
    "                    weights *= self.weights[neighbors]\n",
    "                weighted_votes = Counter()\n",
    "                for label, weight in zip(neighbor_labels, weights):\n",
    "                    weighted_votes[label] += weight\n",
    "                most_common = weighted_votes.most_common(1)[0][0]\n",
    "                predictions.append(most_common)\n",
    "        else:\n",
    "            neighbors = self.model.radius_neighbors(X, return_distance=True)\n",
    "            for i in range(len(X)):\n",
    "                neighbor_indices = neighbors[1][i]\n",
    "                neighbor_distances = neighbors[0][i]\n",
    "                if len(neighbor_indices) == 0:\n",
    "                    distances, indices = self.model.kneighbors(X[i].reshape(1, -1))\n",
    "                    neighbor_indices = indices[0]\n",
    "                    neighbor_distances = distances[0]\n",
    "                neighbor_labels = self.y_train[neighbor_indices]\n",
    "                weights = self.kernel(neighbor_distances)\n",
    "                if self.weights.size > 1:\n",
    "                    weights *= self.weights[neighbor_indices]\n",
    "                weighted_votes = Counter()\n",
    "                for label, weight in zip(neighbor_labels, weights):\n",
    "                    weighted_votes[label] += weight\n",
    "                most_common = weighted_votes.most_common(1)[0][0]\n",
    "                predictions.append(most_common)\n",
    "        return np.array(predictions)"
   ],
   "metadata": {
    "collapsed": false
   },
   "id": "83e83edf3eb05183"
  },
  {
   "cell_type": "markdown",
   "source": [
    "## Подбор лучших гиперпараметров"
   ],
   "metadata": {
    "collapsed": false
   },
   "id": "3d2bfe246620b951"
  },
  {
   "cell_type": "code",
   "execution_count": null,
   "outputs": [],
   "source": [
    "def evaluate_knn(X_train, y_train, X_test, y_test, n_neighbors=5, radius=None, metric='euclidean',\n",
    "                kernel='uniform', weights=None, p=2):\n",
    "    knn = KNN(n_neighbors=n_neighbors, radius=radius, metric=metric, kernel=kernel, weights=weights, p=p)\n",
    "    knn.fit(X_train, y_train)\n",
    "    y_pred = knn.predict(X_test)\n",
    "    accuracy = np.mean(y_pred == y_test)\n",
    "    return accuracy"
   ],
   "metadata": {
    "collapsed": false
   },
   "id": "93ca6634d84f954a"
  },
  {
   "cell_type": "code",
   "execution_count": null,
   "outputs": [],
   "source": [
    "def grid_search_knn(X_train, y_train, X_val, y_val, neighbor_range, radius_range, metrics, kernels, p_range):\n",
    "    best_accuracy = 0\n",
    "    best_params = {}\n",
    "    results = []\n",
    "    print(\"Точность для разных комбинаций параметров:\")\n",
    "\n",
    "    for n_neighbors in neighbor_range:\n",
    "        for metric in metrics:\n",
    "            if metric == 'minkowski':\n",
    "                for p in p_range:\n",
    "                    for kernel_name in kernels.keys():\n",
    "                        accuracy = evaluate_knn(\n",
    "                            X_train, y_train, X_val, y_val,\n",
    "                            n_neighbors=n_neighbors, radius=None,\n",
    "                            metric=metric, kernel=kernel_name, p=p\n",
    "                        )\n",
    "                        print(\n",
    "                            f\"[kNN] Метрика: {metric} (p={p}), Ядро: {kernel_name}, n_neighbors: {n_neighbors}, Точность: {accuracy:.4f}\")\n",
    "                        results.append({\n",
    "                            'type': 'n_neighbors',\n",
    "                            'n_neighbors': n_neighbors,\n",
    "                            'metric': f\"{metric}_p{p}\",\n",
    "                            'kernel': kernel_name,\n",
    "                            'accuracy': accuracy\n",
    "                        })\n",
    "                        if accuracy > best_accuracy:\n",
    "                            best_accuracy = accuracy\n",
    "                            best_params = {\n",
    "                                'type': 'n_neighbors',\n",
    "                                'n_neighbors': n_neighbors,\n",
    "                                'metric': f\"{metric}_p{p}\",\n",
    "                                'kernel': kernel_name\n",
    "                            }\n",
    "            else:\n",
    "                for kernel_name in kernels.keys():\n",
    "                    accuracy = evaluate_knn(\n",
    "                        X_train, y_train, X_val, y_val,\n",
    "                        n_neighbors=n_neighbors, radius=None,\n",
    "                        metric=metric, kernel=kernel_name\n",
    "                    )\n",
    "                    print(\n",
    "                        f\"[kNN] Метрика: {metric}, Ядро: {kernel_name}, n_neighbors: {n_neighbors}, Точность: {accuracy:.4f}\")\n",
    "                    results.append({\n",
    "                        'type': 'n_neighbors',\n",
    "                        'n_neighbors': n_neighbors,\n",
    "                        'metric': metric,\n",
    "                        'kernel': kernel_name,\n",
    "                        'accuracy': accuracy\n",
    "                    })\n",
    "                    if accuracy > best_accuracy:\n",
    "                        best_accuracy = accuracy\n",
    "                        best_params = {\n",
    "                            'type': 'n_neighbors',\n",
    "                            'n_neighbors': n_neighbors,\n",
    "                            'metric': metric,\n",
    "                            'kernel': kernel_name\n",
    "                        }\n",
    "\n",
    "    for radius in radius_range:\n",
    "        for metric in metrics:\n",
    "            if metric == 'minkowski':\n",
    "                for p in p_range:\n",
    "                    for kernel_name in kernels.keys():\n",
    "                        accuracy = evaluate_knn(\n",
    "                            X_train, y_train, X_val, y_val,\n",
    "                            n_neighbors=None, radius=radius,\n",
    "                            metric=metric, kernel=kernel_name, p=p\n",
    "                        )\n",
    "                        print(\n",
    "                            f\"[RadiusNN] Метрика: {metric} (p={p}), Ядро: {kernel_name}, radius: {radius}, Точность: {accuracy:.4f}\")\n",
    "                        results.append({\n",
    "                            'type': 'radius',\n",
    "                            'radius': radius,\n",
    "                            'metric': f\"{metric}_p{p}\",\n",
    "                            'kernel': kernel_name,\n",
    "                            'accuracy': accuracy\n",
    "                        })\n",
    "                        if accuracy > best_accuracy:\n",
    "                            best_accuracy = accuracy\n",
    "                            best_params = {\n",
    "                                'type': 'radius',\n",
    "                                'radius': radius,\n",
    "                                'metric': f\"{metric}_p{p}\",\n",
    "                                'kernel': kernel_name\n",
    "                            }\n",
    "            else:\n",
    "                for kernel_name in kernels.keys():\n",
    "                    accuracy = evaluate_knn(\n",
    "                        X_train, y_train, X_val, y_val,\n",
    "                        n_neighbors=None, radius=radius,\n",
    "                        metric=metric, kernel=kernel_name\n",
    "                    )\n",
    "                    print(\n",
    "                        f\"[RadiusNN] Метрика: {metric}, Ядро: {kernel_name}, radius: {radius}, Точность: {accuracy:.4f}\")\n",
    "                    results.append({\n",
    "                        'type': 'radius',\n",
    "                        'radius': radius,\n",
    "                        'metric': metric,\n",
    "                        'kernel': kernel_name,\n",
    "                        'accuracy': accuracy\n",
    "                    })\n",
    "                    if accuracy > best_accuracy:\n",
    "                        best_accuracy = accuracy\n",
    "                        best_params = {\n",
    "                            'type': 'radius',\n",
    "                            'radius': radius,\n",
    "                            'metric': metric,\n",
    "                            'kernel': kernel_name\n",
    "                        }\n",
    "    return best_params, best_accuracy, results"
   ],
   "metadata": {
    "collapsed": false
   },
   "id": "c7146084cbde59c5"
  },
  {
   "cell_type": "markdown",
   "source": [
    "Реализация метода LOWESS с итеративным пере-взвешиванием и регуляризацией. Метод выполняет локальную регрессию для сглаживания данных и выявления аномалий."
   ],
   "metadata": {
    "collapsed": false
   },
   "id": "d9585fbd23ece98f"
  },
  {
   "cell_type": "code",
   "execution_count": null,
   "outputs": [],
   "source": [
    "def lowess(X, y, f=0.25, iterations=3, lambda_reg=1e-5):\n",
    "    n = len(X)\n",
    "    y_pred = np.zeros(n)\n",
    "    r = int(np.ceil(f * n))\n",
    "    delta = np.ones(n)\n",
    "    X_augmented = np.hstack((np.ones((n, 1)), X))\n",
    "    y = y.flatten()\n",
    "\n",
    "    for iteration in range(iterations):\n",
    "        for i in range(n):\n",
    "            distances = np.linalg.norm(X - X[i], axis=1)\n",
    "            idx = np.argsort(distances)[:r]\n",
    "            x_neighbors = X_augmented[idx]\n",
    "            y_neighbors = y[idx]\n",
    "        \n",
    "            max_distance = distances[idx].max()\n",
    "            if max_distance > 0:\n",
    "                normalized_distances = distances[idx] / max_distance\n",
    "            else:\n",
    "                normalized_distances = np.zeros_like(distances[idx])\n",
    "            weights = triangular_kernel(normalized_distances)\n",
    "            weights *= delta[idx]\n",
    "            W = np.diag(weights)\n",
    "            XT_W_X = x_neighbors.T @ W @ x_neighbors\n",
    "            XT_W_X += lambda_reg * np.eye(X_augmented.shape[1])\n",
    "            XT_W_y = x_neighbors.T @ W @ y_neighbors\n",
    "            try:\n",
    "                beta = np.linalg.pinv(XT_W_X) @ XT_W_y\n",
    "            except np.linalg.LinAlgError:\n",
    "                beta = np.zeros(X_augmented.shape[1])\n",
    "            y_pred[i] = X_augmented[i] @ beta\n",
    "        residuals = y - y_pred\n",
    "        s = np.median(np.abs(residuals))\n",
    "        if s == 0:\n",
    "            s = 1\n",
    "        delta = residuals / (6.0 * s)\n",
    "        delta = np.clip(delta, -1, 1)\n",
    "        delta = (1 - delta ** 2) ** 2\n",
    "    return y_pred"
   ],
   "metadata": {
    "collapsed": false
   },
   "id": "465d405cf77205a7"
  },
  {
   "cell_type": "markdown",
   "source": [
    "Функция для применения LOWESS к тренировочным данным, вычисления весов, оценки модели до и после взвешивания, а также построения графиков распределения весов."
   ],
   "metadata": {
    "collapsed": false
   },
   "id": "55b3814c62fd6de7"
  },
  {
   "cell_type": "code",
   "execution_count": null,
   "outputs": [],
   "source": [
    "def calculate_lowess_weights(X_train, y_train, X_test, y_test, best_params):\n",
    "    try:\n",
    "        y_train_pred = lowess(X_train, y_train, iterations=3)\n",
    "        weights = np.abs(y_train - y_train_pred)\n",
    "        weights = weights / np.max(weights)\n",
    "\n",
    "        if 'minkowski' in best_params['metric']:\n",
    "            p = int(best_params['metric'].split('_p')[-1])\n",
    "            initial_accuracy = evaluate_knn(\n",
    "                X_train=X_train,\n",
    "                y_train=y_train,\n",
    "                X_test=X_test,\n",
    "                y_test=y_test,\n",
    "                n_neighbors=best_params.get('n_neighbors'),\n",
    "                radius=best_params.get('radius'),\n",
    "                metric='minkowski',\n",
    "                kernel=best_params['kernel'],\n",
    "                p=p\n",
    "            )\n",
    "        else:\n",
    "            initial_accuracy = evaluate_knn(\n",
    "                X_train=X_train,\n",
    "                y_train=y_train,\n",
    "                X_test=X_test,\n",
    "                y_test=y_test,\n",
    "                n_neighbors=best_params.get('n_neighbors'),\n",
    "                radius=best_params.get('radius'),\n",
    "                metric=best_params['metric'],\n",
    "                kernel=best_params['kernel']\n",
    "            )\n",
    "        print(f\"Точность до взвешивания: {initial_accuracy:.4f}\")\n",
    "\n",
    "        if 'minkowski' in best_params['metric']:\n",
    "            p = int(best_params['metric'].split('_p')[-1])\n",
    "            weighted_accuracy = evaluate_knn(\n",
    "                X_train=X_train,\n",
    "                y_train=y_train,\n",
    "                X_test=X_test,\n",
    "                y_test=y_test,\n",
    "                n_neighbors=best_params.get('n_neighbors'),\n",
    "                radius=best_params.get('radius'),\n",
    "                metric='minkowski',\n",
    "                kernel=best_params['kernel'],\n",
    "                weights=weights,\n",
    "                p=p\n",
    "            )\n",
    "        else:\n",
    "            weighted_accuracy = evaluate_knn(\n",
    "                X_train=X_train,\n",
    "                y_train=y_train,\n",
    "                X_test=X_test,\n",
    "                y_test=y_test,\n",
    "                n_neighbors=best_params.get('n_neighbors'),\n",
    "                radius=best_params.get('radius'),\n",
    "                metric=best_params['metric'],\n",
    "                kernel=best_params['kernel'],\n",
    "                weights=weights\n",
    "            )\n",
    "        print(f\"Точность после взвешивания: {weighted_accuracy:.4f}\")\n",
    "\n",
    "    except Exception as e:\n",
    "        print(f\"Ошибка в LOWESS: {e}\")"
   ],
   "metadata": {
    "collapsed": false
   },
   "id": "c84b64c1ad090635"
  },
  {
   "cell_type": "markdown",
   "source": [
    "## Код для построения графиков, улушаюших понимание"
   ],
   "metadata": {
    "collapsed": false
   },
   "id": "c50be620cae21543"
  },
  {
   "cell_type": "markdown",
   "source": [
    "Строит график точности на тренировочных и тестовых данных в зависимости от заданного параметра (например, числа соседей)."
   ],
   "metadata": {
    "collapsed": false
   },
   "id": "e6e4aaa8ee1b2443"
  },
  {
   "cell_type": "code",
   "execution_count": 1,
   "outputs": [],
   "source": [
    "def plot_accuracy(train_accuracies, test_accuracies, parameter, param_values, title, xlabel, save_path=None):\n",
    "    plt.figure(figsize=(10, 6))\n",
    "    plt.plot(param_values, train_accuracies, marker='o', label='Точность на тренировочном множестве')\n",
    "    plt.plot(param_values, test_accuracies, marker='s', label='Точность на тестовом множестве')\n",
    "    plt.xlabel(xlabel)\n",
    "    plt.ylabel('Точность')\n",
    "    plt.title(title)\n",
    "    plt.legend()\n",
    "    plt.grid(True)\n",
    "    if save_path:\n",
    "        plt.savefig(save_path)\n",
    "        plt.close()\n",
    "    else:\n",
    "        plt.show()"
   ],
   "metadata": {
    "collapsed": false,
    "ExecuteTime": {
     "end_time": "2024-10-31T18:16:53.099812Z",
     "start_time": "2024-10-31T18:16:53.093299Z"
    }
   },
   "id": "af65cb393407ed56"
  },
  {
   "cell_type": "markdown",
   "source": [
    " Визуализирует распределение классов в выборке, что помогает выявить дисбаланс данных."
   ],
   "metadata": {
    "collapsed": false
   },
   "id": "701fedd50df48fcd"
  },
  {
   "cell_type": "code",
   "execution_count": 2,
   "outputs": [],
   "source": [
    "def plot_class_distribution(y, title='Распределение классов', save_path=None):\n",
    "    unique, counts = np.unique(y, return_counts=True)\n",
    "    data = pd.DataFrame({'Class': unique, 'Count': counts})\n",
    "    plt.figure(figsize=(8, 6))\n",
    "    sns.barplot(x='Class', y='Count', data=data, hue='Class', palette='viridis', dodge=False)\n",
    "    plt.xlabel('Класс')\n",
    "    plt.ylabel('Количество объектов')\n",
    "    plt.title(title)\n",
    "    plt.xticks(unique)\n",
    "    if save_path:\n",
    "        plt.savefig(save_path)\n",
    "        plt.close()\n",
    "    else:\n",
    "        plt.show()"
   ],
   "metadata": {
    "collapsed": false,
    "ExecuteTime": {
     "end_time": "2024-10-31T18:16:59.520127Z",
     "start_time": "2024-10-31T18:16:59.512689Z"
    }
   },
   "id": "42ea174d51f0bbb5"
  },
  {
   "cell_type": "markdown",
   "source": [
    "Создаёт график точности для разных комбинаций параметров (например, числа соседей и метрики) и ядер, чтобы найти оптимальные гиперпараметры."
   ],
   "metadata": {
    "collapsed": false
   },
   "id": "96e9769bfa7b1b36"
  },
  {
   "cell_type": "code",
   "execution_count": null,
   "outputs": [],
   "source": [
    "def plot_accuracy_over_parameters(results, parameter_type, save_path=None):\n",
    "    df_results = pd.DataFrame(results)\n",
    "    if parameter_type == 'n_neighbors':\n",
    "        x_col = 'n_neighbors'\n",
    "        xlabel = 'Число соседей k'\n",
    "    else:\n",
    "        x_col = 'radius'\n",
    "        xlabel = 'Радиус окна'\n",
    "\n",
    "    plt.figure(figsize=(12, 8))\n",
    "    sns.lineplot(data=df_results, x=x_col, y='accuracy', hue='metric', style='kernel', markers=True, dashes=False)\n",
    "    plt.xlabel(xlabel)\n",
    "    plt.ylabel('Точность')\n",
    "    plt.title(f'Точность на разных метриках и ядрах в зависимости от {xlabel.lower()}')\n",
    "    plt.legend(title='Метрика и Ядро', bbox_to_anchor=(1.05, 1), loc='upper left')\n",
    "    plt.tight_layout()\n",
    "    if save_path:\n",
    "        plt.savefig(save_path)\n",
    "        plt.close()\n",
    "    else:\n",
    "        plt.show()"
   ],
   "metadata": {
    "collapsed": false
   },
   "id": "1dc5e0698d40acc6"
  },
  {
   "cell_type": "markdown",
   "source": [
    "Строит график точности на тренировочной и тестовой выборках для разных значений числа соседей или радиуса, используя лучшие гиперпараметры."
   ],
   "metadata": {
    "collapsed": false
   },
   "id": "79fbb7836e64227a"
  },
  {
   "cell_type": "code",
   "execution_count": null,
   "outputs": [],
   "source": [
    "def plot_accuracy_results(X_train, y_train, X_test, y_test, best_params, results):\n",
    "    if best_params['type'] == 'n_neighbors':\n",
    "        neighbor_range_plot = range(1, 31, 2)\n",
    "        train_accuracies, test_accuracies = [], []\n",
    "        metric = best_params['metric']\n",
    "        if 'minkowski' in metric:\n",
    "            p = int(metric.split('_p')[-1])\n",
    "            base_metric = 'minkowski'\n",
    "        else:\n",
    "            p = None\n",
    "            base_metric = metric\n",
    "        for k in neighbor_range_plot:\n",
    "            acc_train = evaluate_knn(\n",
    "                X_train=X_train, y_train=y_train, X_test=X_train, y_test=y_train,\n",
    "                n_neighbors=k, radius=None, metric=base_metric, kernel=best_params['kernel'], p=p\n",
    "            )\n",
    "            acc_test = evaluate_knn(\n",
    "                X_train=X_train, y_train=y_train, X_test=X_test, y_test=y_test,\n",
    "                n_neighbors=k, radius=None, metric=base_metric, kernel=best_params['kernel'], p=p\n",
    "            )\n",
    "            train_accuracies.append(acc_train)\n",
    "            test_accuracies.append(acc_test)\n",
    "        plot_accuracy(train_accuracies, test_accuracies, parameter='k', param_values=neighbor_range_plot,\n",
    "                      title='Зависимость точности от числа соседей', xlabel='Число соседей k')\n",
    "    else:\n",
    "        radius_range_plot = np.linspace(0.1, 2.0, 20)\n",
    "        train_accuracies, test_accuracies = [], []\n",
    "        metric = best_params['metric']\n",
    "        if 'minkowski' in metric:\n",
    "            p = int(metric.split('_p')[-1])\n",
    "            base_metric = 'minkowski'\n",
    "        else:\n",
    "            p = None\n",
    "            base_metric = metric\n",
    "        for r in radius_range_plot:\n",
    "            acc_train = evaluate_knn(\n",
    "                X_train=X_train, y_train=y_train, X_test=X_train, y_test=y_train,\n",
    "                n_neighbors=None, radius=r, metric=base_metric, kernel=best_params['kernel'], p=p\n",
    "            )\n",
    "            acc_test = evaluate_knn(\n",
    "                X_train=X_train, y_train=y_train, X_test=X_test, y_test=y_test,\n",
    "                n_neighbors=None, radius=r, metric=base_metric, kernel=best_params['kernel'], p=p\n",
    "            )\n",
    "            train_accuracies.append(acc_train)\n",
    "            test_accuracies.append(acc_test)\n",
    "        plot_accuracy(train_accuracies, test_accuracies, parameter='r', param_values=radius_range_plot,\n",
    "                      title='Зависимость точности от радиуса окна', xlabel='Радиус окна')\n"
   ],
   "metadata": {
    "collapsed": false
   },
   "id": "27513564b3db61cc"
  },
  {
   "cell_type": "markdown",
   "source": [
    "Визуализирует распределение весов объектов, рассчитанных через LOWESS, что позволяет оценить вес каждого объекта в модели."
   ],
   "metadata": {
    "collapsed": false
   },
   "id": "24e2ca460d61c902"
  },
  {
   "cell_type": "code",
   "execution_count": null,
   "outputs": [],
   "source": [
    "def plot_weights_distribution(weights, title='Распределение весов после LOWESS', save_path=None):\n",
    "    plt.figure(figsize=(8, 6))\n",
    "    sns.histplot(weights, bins=30, kde=True, color='green')\n",
    "    plt.xlabel('Вес')\n",
    "    plt.ylabel('Количество объектов')\n",
    "    plt.title(title)\n",
    "    if save_path:\n",
    "        plt.savefig(save_path)\n",
    "        plt.close()\n",
    "    else:\n",
    "        plt.show()"
   ],
   "metadata": {
    "collapsed": false
   },
   "id": "69e0a1f6d49ae838"
  },
  {
   "cell_type": "markdown",
   "source": [
    "Построение графика распределения классов"
   ],
   "metadata": {
    "collapsed": false
   },
   "id": "f55831b3e604496f"
  },
  {
   "cell_type": "code",
   "execution_count": null,
   "outputs": [],
   "source": [
    "def plot_class_distribution_func(y_train):\n",
    "    plot_class_distribution(\n",
    "        y=y_train,\n",
    "        title='Распределение классов в тренировочной выборке'\n",
    "    )"
   ],
   "metadata": {
    "collapsed": false
   },
   "id": "916513809aa21c48"
  },
  {
   "cell_type": "markdown",
   "source": [
    "Построение графиков зависимости точности от метрик и ядер"
   ],
   "metadata": {
    "collapsed": false
   },
   "id": "58948327594d9da9"
  },
  {
   "cell_type": "code",
   "execution_count": null,
   "outputs": [],
   "source": [
    "def plot_accuracy_over_parameters_func(results):\n",
    "    df_results_neighbors = [res for res in results if res['type'] == 'n_neighbors']\n",
    "    plot_accuracy_over_parameters(results=df_results_neighbors, parameter_type='n_neighbors')\n",
    "\n",
    "    df_results_radius = [res for res in results if res['type'] == 'radius']\n",
    "    plot_accuracy_over_parameters(results=df_results_radius, parameter_type='radius')\n"
   ],
   "metadata": {
    "collapsed": false
   },
   "id": "d24aa5fb3b6dce47"
  },
  {
   "cell_type": "markdown",
   "source": [
    "## data_utils.py"
   ],
   "metadata": {
    "collapsed": false
   },
   "id": "42eb22172dddce1b"
  },
  {
   "cell_type": "code",
   "execution_count": null,
   "outputs": [],
   "source": [
    "import pandas as pd\n",
    "from sklearn.preprocessing import LabelEncoder, StandardScaler\n",
    "from sklearn.model_selection import train_test_split\n",
    "\n",
    "\n",
    "def load_and_preprocess_data(csv_path, target_column, test_size=0.2, val_size=0.25, random_state=42):\n",
    "    df = pd.read_csv(csv_path)\n",
    "\n",
    "    X = df.drop(columns=[target_column]).values\n",
    "    y = df[target_column].values\n",
    "\n",
    "    le = LabelEncoder()\n",
    "    y = le.fit_transform(y)\n",
    "    y = y.astype(float)\n",
    "\n",
    "    scaler = StandardScaler()\n",
    "    X = scaler.fit_transform(X)\n",
    "\n",
    "    X_train_full, X_test, y_train_full, y_test = train_test_split(X, y, test_size=test_size, random_state=random_state)\n",
    "\n",
    "    X_train, X_val, y_train, y_val = train_test_split(X_train_full, y_train_full, test_size=val_size, random_state=random_state)\n",
    "\n",
    "    return X_train, X_val, X_test, y_train, y_val, y_test, le, scaler"
   ],
   "metadata": {
    "collapsed": false
   },
   "id": "f8c3f9703db645a4"
  }
 ],
 "metadata": {
  "kernelspec": {
   "display_name": "Python 3",
   "language": "python",
   "name": "python3"
  },
  "language_info": {
   "codemirror_mode": {
    "name": "ipython",
    "version": 2
   },
   "file_extension": ".py",
   "mimetype": "text/x-python",
   "name": "python",
   "nbconvert_exporter": "python",
   "pygments_lexer": "ipython2",
   "version": "2.7.6"
  }
 },
 "nbformat": 4,
 "nbformat_minor": 5
}
